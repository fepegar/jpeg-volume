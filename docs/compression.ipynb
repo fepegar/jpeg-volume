{
 "cells": [
  {
   "cell_type": "markdown",
   "id": "0",
   "metadata": {
    "papermill": {
     "duration": 0.00362,
     "end_time": "2024-09-28T23:19:03.232776",
     "exception": false,
     "start_time": "2024-09-28T23:19:03.229156",
     "status": "completed"
    },
    "tags": []
   },
   "source": [
    "# Compression ratio and artifacts\n",
    "\n",
    "TODO"
   ]
  },
  {
   "cell_type": "markdown",
   "id": "1",
   "metadata": {
    "papermill": {
     "duration": 0.003002,
     "end_time": "2024-09-28T23:19:03.240205",
     "exception": false,
     "start_time": "2024-09-28T23:19:03.237203",
     "status": "completed"
    },
    "tags": []
   },
   "source": []
  }
 ],
 "metadata": {
  "language_info": {
   "codemirror_mode": {
    "name": "ipython",
    "version": 3
   },
   "file_extension": ".py",
   "mimetype": "text/x-python",
   "name": "python",
   "nbconvert_exporter": "python",
   "pygments_lexer": "ipython3",
   "version": "3.12.6"
  },
  "papermill": {
   "default_parameters": {},
   "duration": 4.720433,
   "end_time": "2024-09-28T23:19:03.670444",
   "environment_variables": {},
   "exception": null,
   "input_path": "../docs/compression.ipynb",
   "output_path": "../docs/compression.ipynb",
   "parameters": {},
   "start_time": "2024-09-28T23:18:58.950011",
   "version": "2.6.0"
  }
 },
 "nbformat": 4,
 "nbformat_minor": 5
}
